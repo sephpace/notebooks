{
 "cells": [
  {
   "cell_type": "markdown",
   "metadata": {},
   "source": [
    "# Hey Bert!\n",
    "\n",
    "This is my attempt to teach myself how BERT works.\n",
    "\n",
    "## Imports"
   ]
  },
  {
   "cell_type": "code",
   "execution_count": 10,
   "metadata": {
    "pycharm": {
     "is_executing": false
    }
   },
   "outputs": [],
   "source": [
    "# Install external module(s)\n",
    "\n",
    "import os\n",
    "import string\n",
    "\n",
    "import pandas as pd\n",
    "import torch\n",
    "import torch.nn as nn\n",
    "import torch.nn.functional as F\n",
    "import torch.optim as optim\n",
    "import transformers as trf\n",
    "import yaml\n",
    "\n",
    "\n",
    "if torch.cuda.is_available():\n",
    "    DEVICE = torch.device('cuda')\n",
    "else:\n",
    "    DEVICE = torch.device('cpu')\n",
    "\n",
    "DATA_DIR = 'kaggle/input/google-quest-challenge'\n",
    "PRETRAINED = 'bert-base-uncased'\n",
    "EPOCHS = 3\n",
    "LEARNING_RATE = 0.01"
   ]
  },
  {
   "cell_type": "markdown",
   "metadata": {},
   "source": [
    "## Load Data"
   ]
  },
  {
   "cell_type": "code",
   "execution_count": 11,
   "metadata": {
    "pycharm": {
     "is_executing": false
    }
   },
   "outputs": [
    {
     "name": "stdout",
     "text": [
      "Loading data...  Done!\n",
      "Sorting data...  Done!\n"
     ],
     "output_type": "stream"
    }
   ],
   "source": [
    "# Load training and testing data\n",
    "print('Loading data...  ', end='')\n",
    "train_df = pd.read_csv(f'{DATA_DIR}/train.csv')\n",
    "test_df = pd.read_csv(f'{DATA_DIR}/test.csv')\n",
    "sample_submission_df = pd.read_csv(f'{DATA_DIR}/sample_submission.csv')\n",
    "print('Done!')\n",
    "\n",
    "# Sort data into separate groups\n",
    "print('Sorting data...  ', end='')\n",
    "train_titles = train_df['question_title'].values\n",
    "train_bodies = train_df['question_body'].values\n",
    "train_answers = train_df['answer'].values\n",
    "\n",
    "test_labels = sample_submission_df.columns\n",
    "test_qa_ids = test_df['qa_id'].values\n",
    "test_titles = test_df['question_title'].values\n",
    "test_bodies = test_df['question_body'].values\n",
    "test_answers = test_df['answer'].values\n",
    "\n",
    "targets = torch.tensor(train_df[train_df.columns[11:]].values, dtype=torch.float, device=DEVICE)\n",
    "print('Done!')"
   ]
  },
  {
   "cell_type": "markdown",
   "metadata": {},
   "source": [
    "## Process Data"
   ]
  },
  {
   "cell_type": "code",
   "execution_count": 12,
   "metadata": {
    "pycharm": {
     "name": "#%%    \n",
     "is_executing": false
    }
   },
   "outputs": [
    {
     "name": "stdout",
     "text": [
      "Processing data...  Done!\n"
     ],
     "output_type": "stream"
    }
   ],
   "source": [
    "def process_data(title, body, answer, tokenizer):\n",
    "    # Tokenize and get ids\n",
    "    tokens = tokenizer.tokenize(f'[CLS] {title} [SEP] {body} [SEP] {answer} [SEP]')\n",
    "    token_ids = tokenizer.convert_tokens_to_ids(tokens)\n",
    "    segment_ids = []\n",
    "    position_ids = []\n",
    "    t_type = 0\n",
    "    for i in range(len(token_ids)):\n",
    "        segment_ids.append(t_type)\n",
    "        position_ids.append(i)\n",
    "        if token_ids[i] == tokenizer.sep_token_id:\n",
    "            t_type += 1\n",
    "    \n",
    "    # Convert to torch tensor\n",
    "    token_ids = torch.tensor(token_ids, device=DEVICE)\n",
    "    segment_ids = torch.tensor(segment_ids, device=DEVICE)\n",
    "    position_ids = torch.tensor(position_ids, device=DEVICE)\n",
    "    \n",
    "    return token_ids, segment_ids, position_ids\n",
    "    \n",
    "\n",
    "# Tokenize data\n",
    "print('Processing data...  ', end='')\n",
    "tokenizer = trf.BertTokenizer.from_pretrained(PRETRAINED)\n",
    "train_ids = []\n",
    "test_ids = []\n",
    "for title, body, answer in zip(train_titles, train_bodies, train_answers):\n",
    "    train_ids.append(process_data(title, body, answer, tokenizer))\n",
    "for title, body, answer in zip(test_titles, test_bodies, test_answers):\n",
    "    test_ids.append(process_data(title, body, answer, tokenizer))\n",
    "print('Done!')\n",
    "\n",
    "# Get max lengths\n",
    "# print('Calculating maximum sequence lengths...  ', end='')\n",
    "# max_title_length = max(max([t.size(0) for t in train_title_tokens]), max([t.size(0) for t in test_title_tokens]))\n",
    "# max_body_length = max(max([t.size(0) for t in train_body_tokens]), max([t.size(0) for t in test_body_tokens]))\n",
    "# max_answer_length = max(max([t.size(0) for t in train_answer_tokens]), max([t.size(0) for t in test_answer_tokens]))\n",
    "# print('Done!')"
   ]
  },
  {
   "cell_type": "markdown",
   "metadata": {},
   "source": [
    "## The Neural Network"
   ]
  },
  {
   "cell_type": "code",
   "execution_count": null,
   "metadata": {},
   "outputs": [],
   "source": [
    "print('Setting up neural networks...  ', end='')\n",
    "\n",
    "class Encoder(nn.Module):\n",
    "    def __init__(self, vocab_size, max_length, embedding_dim=512):\n",
    "        super(Encoder, self).__init__()\n",
    "        self.vocab_size = vocab_size\n",
    "        self.max_length = max_length\n",
    "        self.embedding_dim = embedding_dim\n",
    "        \n",
    "        self.embedding = nn.Embedding(vocab_size, embedding_dim).to(device=DEVICE)\n",
    "        self.encoder_layer = nn.TransformerEncoderLayer(d_model=512, nhead=8).to(device=DEVICE)\n",
    "        self.transformer_encoder = nn.TransformerEncoder(self.encoder_layer, num_layers=6).to(device=DEVICE)\n",
    "        \n",
    "    def forward(self, x):\n",
    "        x = x.unsqueeze(0)\n",
    "        embedded = self.embedding(x)\n",
    "        y = self.transformer_encoder(embedded)\n",
    "        padding = torch.zeros(1, self.max_length - y.size(1), y.size(2), device=DEVICE)\n",
    "        y = torch.cat((y, padding), dim=1).unsqueeze(0)\n",
    "        return y\n",
    "\n",
    "class Network(nn.Module):\n",
    "    def __init__(self, title_encoder, body_encoder, answer_encoder, kernel_size=7, pad_size=3):\n",
    "        super(Network, self).__init__()\n",
    "        self.title_encoder = title_encoder\n",
    "        self.body_encoder = body_encoder\n",
    "        self.answer_encoder = answer_encoder\n",
    "        self.kernel_size = kernel_size\n",
    "        self.pad_size = pad_size\n",
    "        \n",
    "        # CNNs\n",
    "        self.conv1 = nn.Conv2d(1, 5, kernel_size=self.kernel_size).to(device=DEVICE)\n",
    "        self.conv2 = nn.Conv2d(5, 15, kernel_size=self.kernel_size).to(device=DEVICE)\n",
    "        self.conv3 = nn.Conv2d(15, 30, kernel_size=self.kernel_size).to(device=DEVICE)\n",
    "        self.conv4 = nn.Conv2d(30, 50, kernel_size=self.kernel_size).to(device=DEVICE)\n",
    "        \n",
    "        # Find the size to flatten CNN output\n",
    "        x = torch.rand(1, 1, title_encoder.max_length + body_encoder.max_length + answer_encoder.max_length, 512, device=DEVICE)\n",
    "        y = F.relu(F.max_pool2d(self.conv1(x), self.pad_size))\n",
    "        y = F.relu(F.max_pool2d(self.conv2(y), self.pad_size))\n",
    "        y = F.relu(F.max_pool2d(self.conv3(y), self.pad_size))\n",
    "        y = F.relu(F.max_pool2d(self.conv4(y), self.pad_size))\n",
    "        self.cnn_flatten_size = y.size(1) * y.size(2) * y.size(3)\n",
    "        \n",
    "        # Linear layers\n",
    "        self.lin1 = nn.Linear(self.cnn_flatten_size, 1650).to(device=DEVICE)\n",
    "        self.lin2 = nn.Linear(1650, 412).to(device=DEVICE)\n",
    "        self.lin3 = nn.Linear(412, 30).to(device=DEVICE)\n",
    "    \n",
    "    def forward(self, title, body, answer):\n",
    "        title_y = self.title_encoder(title)\n",
    "        body_y = self.body_encoder(body)\n",
    "        answer_y = self.answer_encoder(answer)\n",
    "        y = torch.cat((title_y, body_y, answer_y), dim=2)\n",
    "        y = F.relu(F.max_pool2d(self.conv1(y), self.pad_size))\n",
    "        y = F.relu(F.max_pool2d(self.conv2(y), self.pad_size))\n",
    "        y = F.relu(F.max_pool2d(self.conv3(y), self.pad_size))\n",
    "        y = F.relu(F.max_pool2d(self.conv4(y), self.pad_size))\n",
    "        y = y.view(-1, self.cnn_flatten_size)\n",
    "        y = F.relu(self.lin1(y))\n",
    "        y = F.relu(self.lin2(y))\n",
    "        y = torch.sigmoid(self.lin3(y))\n",
    "        return y.squeeze()\n",
    "    \n",
    "    \n",
    "title_encoder = Encoder(len(vocabulary), max_title_length)\n",
    "body_encoder = Encoder(len(vocabulary), max_body_length)\n",
    "answer_encoder = Encoder(len(vocabulary), max_answer_length)\n",
    "network = Network(title_encoder, body_encoder, answer_encoder)\n",
    "\n",
    "optimizer = optim.SGD(network.parameters(), lr=LEARNING_RATE)\n",
    "criterion = nn.MSELoss()\n",
    "print('Done!')"
   ]
  },
  {
   "cell_type": "markdown",
   "metadata": {},
   "source": [
    "## Training"
   ]
  },
  {
   "cell_type": "code",
   "execution_count": null,
   "metadata": {},
   "outputs": [],
   "source": [
    "print('\\n--- Begin Training ---')\n",
    "train_data = list(enumerate(zip(train_title_tokens, train_body_tokens, train_answer_tokens, targets)))\n",
    "total = len(train_data)\n",
    "network.train()\n",
    "for epoch in range(1, EPOCHS + 1):\n",
    "    total_loss = 0\n",
    "    for idx, (title, body, answer, target) in train_data:\n",
    "        optimizer.zero_grad()\n",
    "        output = network(title, body, answer)\n",
    "        loss = criterion(output, target)\n",
    "        loss.backward()\n",
    "        optimizer.step()\n",
    "        \n",
    "        total_loss += loss.item()\n",
    "        print(f'Epoch: {epoch:{len(str(EPOCHS))}d}/{EPOCHS}  Loss: {total_loss / (idx + 1):.4f}  Item: {idx + 1:{len(str(total))}d}/{total}', end='\\r')\n",
    "    print()"
   ]
  },
  {
   "cell_type": "markdown",
   "metadata": {},
   "source": [
    "## Testing"
   ]
  },
  {
   "cell_type": "code",
   "execution_count": null,
   "metadata": {},
   "outputs": [],
   "source": [
    "network.train(False)\n",
    "test_data = list(enumerate(zip(test_qa_ids, test_title_tokens, test_body_tokens, test_answer_tokens)))\n",
    "total = len(test_data)\n",
    "output_data = []\n",
    "for idx, (qa_id, title, body, answer) in test_data:\n",
    "    output = network(title, body, answer).tolist()\n",
    "    output.insert(0, qa_id)\n",
    "    output_data.append(output)\n",
    "    print(f'Testing... {idx + 1}/{total}', end='\\r')\n",
    "print('Testing... Done!  ')\n",
    "\n",
    "output_df = pd.DataFrame(output_data, columns=test_labels)\n",
    "output_df.to_csv('submission.csv', index=False)\n",
    "print('Testing output saved to submission.csv')"
   ]
  }
 ],
 "metadata": {
  "kernelspec": {
   "display_name": "Python 3",
   "language": "python",
   "name": "python3"
  },
  "language_info": {
   "codemirror_mode": {
    "name": "ipython",
    "version": 3
   },
   "file_extension": ".py",
   "mimetype": "text/x-python",
   "name": "python",
   "nbconvert_exporter": "python",
   "pygments_lexer": "ipython3",
   "version": "3.7.4"
  },
  "pycharm": {
   "stem_cell": {
    "cell_type": "raw",
    "source": [],
    "metadata": {
     "collapsed": false
    }
   }
  }
 },
 "nbformat": 4,
 "nbformat_minor": 1
}