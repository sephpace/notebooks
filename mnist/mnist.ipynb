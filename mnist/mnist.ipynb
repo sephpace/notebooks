{
 "cells": [
  {
   "cell_type": "markdown",
   "metadata": {},
   "source": [
    "# Yet Another MNIST Classifier\n",
    "\n",
    "### Classifies hand written digits from the MNIST data set\n",
    "\n",
    "In order to learn how to make an image classifier, I loosely followed this tutorial: https://nextjournal.com/gkoehler/pytorch-mnist"
   ]
  },
  {
   "cell_type": "code",
   "execution_count": 1,
   "metadata": {},
   "outputs": [],
   "source": [
    "\n",
    "import random\n",
    "\n",
    "import matplotlib.pyplot as plt\n",
    "import matplotlib.image as mpimg\n",
    "from mnist import MNIST\n",
    "import torch\n",
    "import torch.nn.functional as F\n",
    "import torch.nn as nn\n",
    "import torch.optim as optim\n",
    "\n",
    "EPOCHS = 5\n",
    "LEARNING_RATE = 0.01\n",
    "MOMENTUM = 0.5"
   ]
  },
  {
   "cell_type": "code",
   "execution_count": 2,
   "metadata": {},
   "outputs": [],
   "source": [
    "# Load data\n",
    "data = MNIST('data')\n",
    "data.gz = True\n",
    "\n",
    "train_images, train_labels = data.load_training()\n",
    "test_images, test_labels = data.load_testing()\n",
    "\n",
    "# Reformat data\n",
    "for i in range(len(train_images)):\n",
    "    train_images[i] = torch.tensor(train_images[i], dtype=torch.float).view(1, 1, 28, 28) / 255\n",
    "    \n",
    "for i in range(len(test_images)):\n",
    "    test_images[i] = torch.tensor(test_images[i], dtype=torch.float).view(1, 1, 28, 28) / 255\n",
    "    \n",
    "train_labels = torch.tensor(train_labels).unsqueeze(1)\n",
    "test_labels = torch.tensor(test_labels).unsqueeze(1)"
   ]
  },
  {
   "cell_type": "markdown",
   "metadata": {},
   "source": [
    "Now that the training and testing data is set up, it's time to make sure it is correct."
   ]
  },
  {
   "cell_type": "code",
   "execution_count": 9,
   "metadata": {},
   "outputs": [
    {
     "name": "stdout",
     "output_type": "stream",
     "text": [
      "Label: 3\n"
     ]
    },
    {
     "data": {
      "image/png": "[encoded data removed]",
      "text/plain": [
       "<Figure size 432x288 with 1 Axes>"
      ]
     },
     "metadata": {
      "needs_background": "light"
     },
     "output_type": "display_data"
    }
   ],
   "source": [
    "print('Label:', train_labels[0].item())\n",
    "img = plt.imshow(train_images[0][0, 0])"
   ]
  },
  {
   "cell_type": "markdown",
   "metadata": {},
   "source": [
    "The data looks good, so let's make the neural network!"
   ]
  },
  {
   "cell_type": "code",
   "execution_count": 4,
   "metadata": {},
   "outputs": [],
   "source": [
    "\n",
    "class Net(nn.Module):\n",
    "    def __init__(self):\n",
    "        super(Net, self).__init__()\n",
    "        self.conv1 = nn.Conv2d(1, 10, kernel_size=5)\n",
    "        self.conv2 = nn.Conv2d(10, 20, kernel_size=5)\n",
    "        self.conv2_drop = nn.Dropout2d()\n",
    "        self.flatten = nn.Flatten()\n",
    "        self.fc1 = nn.Linear(320, 50)\n",
    "        self.fc2 = nn.Linear(50, 10)\n",
    "    \n",
    "    def forward(self, x):\n",
    "        x = F.relu(F.max_pool2d(self.conv1(x), 2))\n",
    "        x = F.relu(F.max_pool2d(self.conv2_drop(self.conv2(x)), 2))\n",
    "        x = self.flatten(x)\n",
    "        x = F.relu(self.fc1(x))\n",
    "        x = F.dropout(x, training=self.training)\n",
    "        x = self.fc2(x)\n",
    "        y = F.log_softmax(x, dim=1)\n",
    "        return y"
   ]
  },
  {
   "cell_type": "code",
   "execution_count": 5,
   "metadata": {},
   "outputs": [],
   "source": [
    "network = Net()\n",
    "optimizer = optim.SGD(network.parameters(), lr=LEARNING_RATE, momentum=MOMENTUM)"
   ]
  },
  {
   "cell_type": "code",
   "execution_count": 6,
   "metadata": {},
   "outputs": [
    {
     "name": "stdout",
     "output_type": "stream",
     "text": [
      "Epoch: 1/5 Loss: 1.32 Item: 59999/60000\n",
      "Epoch: 2/5 Loss: 1.53 Item: 59999/60000\n",
      "Epoch: 3/5 Loss: 2.13 Item: 59999/60000\n",
      "Epoch: 4/5 Loss: 2.31 Item: 59999/60000\n",
      "Epoch: 5/5 Loss: 2.31 Item: 59999/60000\n"
     ]
    }
   ],
   "source": [
    "network.train()\n",
    "for epoch in range(1, EPOCHS + 1):\n",
    "    total_loss = 0\n",
    "    for i, (x, t) in enumerate(zip(train_images, train_labels)):\n",
    "        optimizer.zero_grad()\n",
    "        y = network(x)\n",
    "        loss = F.nll_loss(y, t)\n",
    "        loss.backward()\n",
    "        optimizer.step()\n",
    "        \n",
    "        total_loss += loss.item()\n",
    "        print(f'Epoch: {epoch:{len(str(EPOCHS))}d}/{EPOCHS} Loss: {total_loss / i:.2f} Item: {i+1}/{len(train_images)}', end='\\r')\n",
    "    print()\n",
    "    \n",
    "    # Shuffle the data\n",
    "    data = list(zip(train_images, train_labels))\n",
    "    random.shuffle(data)\n",
    "    train_images, train_labels = list(zip(*data))"
   ]
  },
  {
   "cell_type": "code",
   "execution_count": 12,
   "metadata": {},
   "outputs": [
    {
     "name": "stdout",
     "output_type": "stream",
     "text": [
      "Output: 3 Actual: 7\n",
      "Output: 3 Actual: 2\n",
      "Output: 3 Actual: 1\n",
      "Output: 3 Actual: 0\n",
      "Output: 3 Actual: 4\n",
      "Output: 3 Actual: 1\n",
      "Output: 3 Actual: 4\n",
      "Output: 3 Actual: 9\n",
      "Output: 3 Actual: 5\n",
      "Output: 3 Actual: 9\n"
     ]
    }
   ],
   "source": [
    "for img, label in list(zip(test_images, test_labels))[:10]:\n",
    "    y = network(img)\n",
    "    print('Output:', y.argmax().item(), 'Actual:', label.item())"
   ]
  },
  {
   "cell_type": "code",
   "execution_count": null,
   "metadata": {},
   "outputs": [],
   "source": []
  }
 ],
 "metadata": {
  "kernelspec": {
   "display_name": "Python 3",
   "language": "python",
   "name": "python3"
  },
  "language_info": {
   "codemirror_mode": {
    "name": "ipython",
    "version": 3
   },
   "file_extension": ".py",
   "mimetype": "text/x-python",
   "name": "python",
   "nbconvert_exporter": "python",
   "pygments_lexer": "ipython3",
   "version": "3.7.4"
  }
 },
 "nbformat": 4,
 "nbformat_minor": 2
}
